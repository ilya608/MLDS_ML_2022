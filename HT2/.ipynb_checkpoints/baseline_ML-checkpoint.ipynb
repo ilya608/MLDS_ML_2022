{
 "cells": [
  {
   "cell_type": "code",
   "execution_count": 2,
   "metadata": {
    "colab": {
     "base_uri": "https://localhost:8080/",
     "height": 323
    },
    "id": "eiXxNCJbdsAm",
    "outputId": "0dedd410-c603-4f87-ef74-d877cf1a32a1"
   },
   "outputs": [],
   "source": [
    "import kaggle\n",
    "import pandas as pd\n",
    "import matplotlib.pyplot as plt\n",
    "import seaborn as sns"
   ]
  },
  {
   "cell_type": "code",
   "execution_count": 10,
   "metadata": {
    "colab": {
     "base_uri": "https://localhost:8080/"
    },
    "id": "X9oYnhWTdvxN",
    "outputId": "3c1604c2-4a56-4fa5-d315-3be731ab6532"
   },
   "outputs": [
    {
     "name": "stdout",
     "output_type": "stream",
     "text": [
      "Downloading hse-nlp-bootcamp.zip to /Users/ilyakirpichev/HSE/MLDS_1course_1sem/kaggle_nlp\n",
      "100%|██████████████████████████████████████| 59.8M/59.8M [00:53<00:00, 1.02MB/s]\n",
      "100%|██████████████████████████████████████| 59.8M/59.8M [00:53<00:00, 1.17MB/s]\n"
     ]
    }
   ],
   "source": [
    "!kaggle competitions download -c hse-nlp-bootcamp"
   ]
  },
  {
   "cell_type": "code",
   "execution_count": 3,
   "metadata": {
    "colab": {
     "base_uri": "https://localhost:8080/",
     "height": 424
    },
    "id": "2FofdInPjoN6",
    "outputId": "536fa587-efbc-493b-88e3-eb0df05006c4",
    "scrolled": false
   },
   "outputs": [
    {
     "data": {
      "text/html": [
       "<div>\n",
       "<style scoped>\n",
       "    .dataframe tbody tr th:only-of-type {\n",
       "        vertical-align: middle;\n",
       "    }\n",
       "\n",
       "    .dataframe tbody tr th {\n",
       "        vertical-align: top;\n",
       "    }\n",
       "\n",
       "    .dataframe thead th {\n",
       "        text-align: right;\n",
       "    }\n",
       "</style>\n",
       "<table border=\"1\" class=\"dataframe\">\n",
       "  <thead>\n",
       "    <tr style=\"text-align: right;\">\n",
       "      <th></th>\n",
       "      <th>bank</th>\n",
       "      <th>feeds</th>\n",
       "      <th>grades</th>\n",
       "      <th>date</th>\n",
       "    </tr>\n",
       "  </thead>\n",
       "  <tbody>\n",
       "    <tr>\n",
       "      <th>0</th>\n",
       "      <td>ubrr</td>\n",
       "      <td>Много лет являюсь клиентом этого банка, но пос...</td>\n",
       "      <td>1.0</td>\n",
       "      <td>16.02.2017 16:10</td>\n",
       "    </tr>\n",
       "    <tr>\n",
       "      <th>1</th>\n",
       "      <td>fk_otkritie</td>\n",
       "      <td>Г. Ростов-на-Дону, ул. Ленина, 48. Были 10.12....</td>\n",
       "      <td>2.0</td>\n",
       "      <td>13.12.2016 1:05</td>\n",
       "    </tr>\n",
       "    <tr>\n",
       "      <th>2</th>\n",
       "      <td>alfabank</td>\n",
       "      <td>Здравствуйте!Ранее уже оставлял отзыв о вашем ...</td>\n",
       "      <td>NaN</td>\n",
       "      <td>28.06.2019 13:54</td>\n",
       "    </tr>\n",
       "    <tr>\n",
       "      <th>3</th>\n",
       "      <td>vtb</td>\n",
       "      <td>Обращаюсь к Вам с жалобой на незаконное списан...</td>\n",
       "      <td>NaN</td>\n",
       "      <td>15.07.2020 14:54</td>\n",
       "    </tr>\n",
       "    <tr>\n",
       "      <th>4</th>\n",
       "      <td>promsvyazbank</td>\n",
       "      <td>Имею потребительский кредит, взятый в Связь-ба...</td>\n",
       "      <td>2.0</td>\n",
       "      <td>04.08.2020 6:38</td>\n",
       "    </tr>\n",
       "    <tr>\n",
       "      <th>...</th>\n",
       "      <td>...</td>\n",
       "      <td>...</td>\n",
       "      <td>...</td>\n",
       "      <td>...</td>\n",
       "    </tr>\n",
       "    <tr>\n",
       "      <th>74995</th>\n",
       "      <td>trust</td>\n",
       "      <td>Три года длится эпопея с закрытием кредитной к...</td>\n",
       "      <td>1.0</td>\n",
       "      <td>26.10.2016 11:03</td>\n",
       "    </tr>\n",
       "    <tr>\n",
       "      <th>74996</th>\n",
       "      <td>fk_otkritie</td>\n",
       "      <td>Являлся клиентом Бинбанка, пока после слияния ...</td>\n",
       "      <td>2.0</td>\n",
       "      <td>01.02.2020 21:07</td>\n",
       "    </tr>\n",
       "    <tr>\n",
       "      <th>74997</th>\n",
       "      <td>sberbank</td>\n",
       "      <td>8 мая 2016 г. мною вносились деньги на банковс...</td>\n",
       "      <td>1.0</td>\n",
       "      <td>14.06.2016 16:03</td>\n",
       "    </tr>\n",
       "    <tr>\n",
       "      <th>74998</th>\n",
       "      <td>uralsib</td>\n",
       "      <td>Здравствуйте! Сегодня 21.04.2020 захожу в моби...</td>\n",
       "      <td>3.0</td>\n",
       "      <td>21.04.2020 8:24</td>\n",
       "    </tr>\n",
       "    <tr>\n",
       "      <th>74999</th>\n",
       "      <td>bnpparibaseast</td>\n",
       "      <td>Уважаемое руководство банка!Если все услуги ва...</td>\n",
       "      <td>1.0</td>\n",
       "      <td>01.06.2011 13:05</td>\n",
       "    </tr>\n",
       "  </tbody>\n",
       "</table>\n",
       "<p>75000 rows × 4 columns</p>\n",
       "</div>"
      ],
      "text/plain": [
       "                 bank                                              feeds  \\\n",
       "0                ubrr  Много лет являюсь клиентом этого банка, но пос...   \n",
       "1         fk_otkritie  Г. Ростов-на-Дону, ул. Ленина, 48. Были 10.12....   \n",
       "2            alfabank  Здравствуйте!Ранее уже оставлял отзыв о вашем ...   \n",
       "3                 vtb  Обращаюсь к Вам с жалобой на незаконное списан...   \n",
       "4       promsvyazbank  Имею потребительский кредит, взятый в Связь-ба...   \n",
       "...               ...                                                ...   \n",
       "74995           trust  Три года длится эпопея с закрытием кредитной к...   \n",
       "74996     fk_otkritie  Являлся клиентом Бинбанка, пока после слияния ...   \n",
       "74997        sberbank  8 мая 2016 г. мною вносились деньги на банковс...   \n",
       "74998         uralsib  Здравствуйте! Сегодня 21.04.2020 захожу в моби...   \n",
       "74999  bnpparibaseast  Уважаемое руководство банка!Если все услуги ва...   \n",
       "\n",
       "       grades              date  \n",
       "0         1.0  16.02.2017 16:10  \n",
       "1         2.0   13.12.2016 1:05  \n",
       "2         NaN  28.06.2019 13:54  \n",
       "3         NaN  15.07.2020 14:54  \n",
       "4         2.0   04.08.2020 6:38  \n",
       "...       ...               ...  \n",
       "74995     1.0  26.10.2016 11:03  \n",
       "74996     2.0  01.02.2020 21:07  \n",
       "74997     1.0  14.06.2016 16:03  \n",
       "74998     3.0   21.04.2020 8:24  \n",
       "74999     1.0  01.06.2011 13:05  \n",
       "\n",
       "[75000 rows x 4 columns]"
      ]
     },
     "execution_count": 3,
     "metadata": {},
     "output_type": "execute_result"
    }
   ],
   "source": [
    "df = pd.read_csv('train_ml.csv')\n",
    "df"
   ]
  },
  {
   "cell_type": "markdown",
   "metadata": {
    "id": "TPXVA-dfj6Fj"
   },
   "source": [
    "# Some EDA"
   ]
  },
  {
   "cell_type": "markdown",
   "metadata": {
    "id": "lu7vo5tNj9ZJ"
   },
   "source": [
    "Сразу видим, что в столбце с целевой переменной (`grades`) есть пропуски. В этом ноутбуке будем обучаться на отзывах, для которых есть информация о значении таргета. **Но это не единственный подход. Подумайте, что ещё можно сделать**\n",
    "\n",
    "Посмотрим, есть ли пропуски в признаках"
   ]
  },
  {
   "cell_type": "code",
   "execution_count": 4,
   "metadata": {
    "colab": {
     "base_uri": "https://localhost:8080/"
    },
    "id": "AQNQeWVpjzuP",
    "outputId": "bbd9553f-c3f4-4d53-873e-2fff0401e94f",
    "scrolled": true
   },
   "outputs": [
    {
     "name": "stdout",
     "output_type": "stream",
     "text": [
      "<class 'pandas.core.frame.DataFrame'>\n",
      "RangeIndex: 75000 entries, 0 to 74999\n",
      "Data columns (total 4 columns):\n",
      " #   Column  Non-Null Count  Dtype  \n",
      "---  ------  --------------  -----  \n",
      " 0   bank    75000 non-null  object \n",
      " 1   feeds   75000 non-null  object \n",
      " 2   grades  51476 non-null  float64\n",
      " 3   date    75000 non-null  object \n",
      "dtypes: float64(1), object(3)\n",
      "memory usage: 2.3+ MB\n"
     ]
    }
   ],
   "source": [
    "df.info()"
   ]
  },
  {
   "cell_type": "markdown",
   "metadata": {
    "id": "_H-YQ_CAk4JU"
   },
   "source": [
    "Сразу преобразуем столбец с меткой времени к соответствующему формату. И удалим строчки с пропусками в таргете"
   ]
  },
  {
   "cell_type": "code",
   "execution_count": 5,
   "metadata": {
    "colab": {
     "base_uri": "https://localhost:8080/",
     "height": 424
    },
    "id": "F85oQ7rtkgjJ",
    "outputId": "2e3bf651-dd07-4f99-ffb0-d818687f66b0"
   },
   "outputs": [
    {
     "data": {
      "text/html": [
       "<div>\n",
       "<style scoped>\n",
       "    .dataframe tbody tr th:only-of-type {\n",
       "        vertical-align: middle;\n",
       "    }\n",
       "\n",
       "    .dataframe tbody tr th {\n",
       "        vertical-align: top;\n",
       "    }\n",
       "\n",
       "    .dataframe thead th {\n",
       "        text-align: right;\n",
       "    }\n",
       "</style>\n",
       "<table border=\"1\" class=\"dataframe\">\n",
       "  <thead>\n",
       "    <tr style=\"text-align: right;\">\n",
       "      <th></th>\n",
       "      <th>bank</th>\n",
       "      <th>feeds</th>\n",
       "      <th>grades</th>\n",
       "      <th>date</th>\n",
       "    </tr>\n",
       "  </thead>\n",
       "  <tbody>\n",
       "    <tr>\n",
       "      <th>0</th>\n",
       "      <td>ubrr</td>\n",
       "      <td>Много лет являюсь клиентом этого банка, но пос...</td>\n",
       "      <td>1</td>\n",
       "      <td>2017-02-16 16:10:00</td>\n",
       "    </tr>\n",
       "    <tr>\n",
       "      <th>1</th>\n",
       "      <td>fk_otkritie</td>\n",
       "      <td>Г. Ростов-на-Дону, ул. Ленина, 48. Были 10.12....</td>\n",
       "      <td>2</td>\n",
       "      <td>2016-12-13 01:05:00</td>\n",
       "    </tr>\n",
       "    <tr>\n",
       "      <th>4</th>\n",
       "      <td>promsvyazbank</td>\n",
       "      <td>Имею потребительский кредит, взятый в Связь-ба...</td>\n",
       "      <td>2</td>\n",
       "      <td>2020-08-04 06:38:00</td>\n",
       "    </tr>\n",
       "    <tr>\n",
       "      <th>7</th>\n",
       "      <td>homecreditbank</td>\n",
       "      <td>Хочу выразить глубокую благодарность всем сотр...</td>\n",
       "      <td>5</td>\n",
       "      <td>2015-04-19 20:11:00</td>\n",
       "    </tr>\n",
       "    <tr>\n",
       "      <th>8</th>\n",
       "      <td>vtb</td>\n",
       "      <td>6 марта 2019г. В 10:33 при проходе в метро \"Ку...</td>\n",
       "      <td>2</td>\n",
       "      <td>2019-03-28 18:36:00</td>\n",
       "    </tr>\n",
       "    <tr>\n",
       "      <th>...</th>\n",
       "      <td>...</td>\n",
       "      <td>...</td>\n",
       "      <td>...</td>\n",
       "      <td>...</td>\n",
       "    </tr>\n",
       "    <tr>\n",
       "      <th>74995</th>\n",
       "      <td>trust</td>\n",
       "      <td>Три года длится эпопея с закрытием кредитной к...</td>\n",
       "      <td>1</td>\n",
       "      <td>2016-10-26 11:03:00</td>\n",
       "    </tr>\n",
       "    <tr>\n",
       "      <th>74996</th>\n",
       "      <td>fk_otkritie</td>\n",
       "      <td>Являлся клиентом Бинбанка, пока после слияния ...</td>\n",
       "      <td>2</td>\n",
       "      <td>2020-02-01 21:07:00</td>\n",
       "    </tr>\n",
       "    <tr>\n",
       "      <th>74997</th>\n",
       "      <td>sberbank</td>\n",
       "      <td>8 мая 2016 г. мною вносились деньги на банковс...</td>\n",
       "      <td>1</td>\n",
       "      <td>2016-06-14 16:03:00</td>\n",
       "    </tr>\n",
       "    <tr>\n",
       "      <th>74998</th>\n",
       "      <td>uralsib</td>\n",
       "      <td>Здравствуйте! Сегодня 21.04.2020 захожу в моби...</td>\n",
       "      <td>3</td>\n",
       "      <td>2020-04-21 08:24:00</td>\n",
       "    </tr>\n",
       "    <tr>\n",
       "      <th>74999</th>\n",
       "      <td>bnpparibaseast</td>\n",
       "      <td>Уважаемое руководство банка!Если все услуги ва...</td>\n",
       "      <td>1</td>\n",
       "      <td>2011-06-01 13:05:00</td>\n",
       "    </tr>\n",
       "  </tbody>\n",
       "</table>\n",
       "<p>51476 rows × 4 columns</p>\n",
       "</div>"
      ],
      "text/plain": [
       "                 bank                                              feeds  \\\n",
       "0                ubrr  Много лет являюсь клиентом этого банка, но пос...   \n",
       "1         fk_otkritie  Г. Ростов-на-Дону, ул. Ленина, 48. Были 10.12....   \n",
       "4       promsvyazbank  Имею потребительский кредит, взятый в Связь-ба...   \n",
       "7      homecreditbank  Хочу выразить глубокую благодарность всем сотр...   \n",
       "8                 vtb  6 марта 2019г. В 10:33 при проходе в метро \"Ку...   \n",
       "...               ...                                                ...   \n",
       "74995           trust  Три года длится эпопея с закрытием кредитной к...   \n",
       "74996     fk_otkritie  Являлся клиентом Бинбанка, пока после слияния ...   \n",
       "74997        sberbank  8 мая 2016 г. мною вносились деньги на банковс...   \n",
       "74998         uralsib  Здравствуйте! Сегодня 21.04.2020 захожу в моби...   \n",
       "74999  bnpparibaseast  Уважаемое руководство банка!Если все услуги ва...   \n",
       "\n",
       "       grades                date  \n",
       "0           1 2017-02-16 16:10:00  \n",
       "1           2 2016-12-13 01:05:00  \n",
       "4           2 2020-08-04 06:38:00  \n",
       "7           5 2015-04-19 20:11:00  \n",
       "8           2 2019-03-28 18:36:00  \n",
       "...       ...                 ...  \n",
       "74995       1 2016-10-26 11:03:00  \n",
       "74996       2 2020-02-01 21:07:00  \n",
       "74997       1 2016-06-14 16:03:00  \n",
       "74998       3 2020-04-21 08:24:00  \n",
       "74999       1 2011-06-01 13:05:00  \n",
       "\n",
       "[51476 rows x 4 columns]"
      ]
     },
     "execution_count": 5,
     "metadata": {},
     "output_type": "execute_result"
    }
   ],
   "source": [
    "df['date'] = pd.to_datetime(df['date'], format='%d.%m.%Y %H:%M')\n",
    "df = df.dropna()\n",
    "df = df.astype({'grades': 'int32'})\n",
    "df"
   ]
  },
  {
   "cell_type": "markdown",
   "metadata": {
    "id": "TUsxBFZnnKuj"
   },
   "source": [
    "Посмотрим на распределение числа отзывов по банкам"
   ]
  },
  {
   "cell_type": "code",
   "execution_count": 6,
   "metadata": {
    "colab": {
     "base_uri": "https://localhost:8080/"
    },
    "id": "7LzTWzLemyjX",
    "outputId": "ff4d30de-f699-4237-a0e0-9dc293352ec3"
   },
   "outputs": [
    {
     "data": {
      "text/plain": [
       "sberbank        8355\n",
       "vtb             5255\n",
       "tcs             4503\n",
       "sovcombank      2600\n",
       "fk_otkritie     2599\n",
       "                ... \n",
       "sdm-bank          33\n",
       "intesa            31\n",
       "primsotsbank      31\n",
       "rncb              30\n",
       "rnbank            26\n",
       "Name: bank, Length: 69, dtype: int64"
      ]
     },
     "execution_count": 6,
     "metadata": {},
     "output_type": "execute_result"
    }
   ],
   "source": [
    "feeds_by_bank_count = df.bank.value_counts()\n",
    "feeds_by_bank_count"
   ]
  },
  {
   "cell_type": "code",
   "execution_count": 7,
   "metadata": {},
   "outputs": [
    {
     "data": {
      "text/plain": [
       "0                  ubrr\n",
       "1           fk_otkritie\n",
       "4         promsvyazbank\n",
       "7        homecreditbank\n",
       "8                   vtb\n",
       "              ...      \n",
       "74995             trust\n",
       "74996       fk_otkritie\n",
       "74997          sberbank\n",
       "74998           uralsib\n",
       "74999    bnpparibaseast\n",
       "Name: bank, Length: 51476, dtype: object"
      ]
     },
     "execution_count": 7,
     "metadata": {},
     "output_type": "execute_result"
    }
   ],
   "source": [
    "df.bank"
   ]
  },
  {
   "cell_type": "code",
   "execution_count": 8,
   "metadata": {
    "colab": {
     "base_uri": "https://localhost:8080/",
     "height": 1000
    },
    "id": "h0csgEzHnOhY",
    "outputId": "4a48e1a6-a0cb-40f6-b0e7-709915f464e4"
   },
   "outputs": [
    {
     "data": {
      "image/png": "[encoded data removed]",
      "text/plain": [
       "<Figure size 2880x1440 with 1 Axes>"
      ]
     },
     "metadata": {
      "needs_background": "light"
     },
     "output_type": "display_data"
    }
   ],
   "source": [
    "plt.figure(figsize=(40,20))\n",
    "sns.histplot(data=df.sort_values(by='bank'), \n",
    "             x=df.bank, )\n",
    "plt.xticks(rotation=45)\n",
    "plt.show()"
   ]
  },
  {
   "cell_type": "markdown",
   "metadata": {
    "id": "18LUZxLrnO9j"
   },
   "source": [
    "Глянем на распределение клиентских оценок"
   ]
  },
  {
   "cell_type": "code",
   "execution_count": null,
   "metadata": {
    "colab": {
     "base_uri": "https://localhost:8080/"
    },
    "id": "_sMQ6Je0rdYu",
    "outputId": "1f91d6e5-0893-4bc3-e681-f253f7a29de2"
   },
   "outputs": [
    {
     "data": {
      "text/plain": [
       "1    27739\n",
       "2     5634\n",
       "3     2356\n",
       "4     1520\n",
       "5    14227\n",
       "Name: grades, dtype: int64"
      ]
     },
     "execution_count": 12,
     "metadata": {},
     "output_type": "execute_result"
    }
   ],
   "source": [
    "df.grades.value_counts().sort_index()"
   ]
  },
  {
   "cell_type": "code",
   "execution_count": 25,
   "metadata": {
    "colab": {
     "base_uri": "https://localhost:8080/",
     "height": 606
    },
    "id": "vvInXxbWnSyR",
    "outputId": "27fd91bc-6755-4254-f3d8-cedfdefde817"
   },
   "outputs": [
    {
     "data": {
      "image/png": "[encoded data removed]",
      "text/plain": [
       "<Figure size 1440x720 with 1 Axes>"
      ]
     },
     "metadata": {
      "needs_background": "light"
     },
     "output_type": "display_data"
    }
   ],
   "source": [
    "plt.figure(figsize=(20, 10))\n",
    "sns.histplot(data=df, \n",
    "             x=df.bank, )\n",
    "plt.show()"
   ]
  },
  {
   "cell_type": "markdown",
   "metadata": {
    "id": "Ku_rgep8ntN8"
   },
   "source": [
    "Также нас интересуют длины отзывов"
   ]
  },
  {
   "cell_type": "code",
   "execution_count": 26,
   "metadata": {
    "id": "LZVhWl9pnzQV"
   },
   "outputs": [],
   "source": [
    "df['sym_len'] = df.feeds.apply(len)\n",
    "df['word_len'] = df.feeds.apply(lambda x: len(x.split()))"
   ]
  },
  {
   "cell_type": "code",
   "execution_count": 27,
   "metadata": {
    "colab": {
     "base_uri": "https://localhost:8080/",
     "height": 606
    },
    "id": "FDcb3qGwseG6",
    "outputId": "86a1e55b-0fb7-4ef7-99e5-93e29dedb397"
   },
   "outputs": [
    {
     "data": {
      "image/png": "[encoded data removed]",
      "text/plain": [
       "<Figure size 1080x720 with 1 Axes>"
      ]
     },
     "metadata": {
      "needs_background": "light"
     },
     "output_type": "display_data"
    }
   ],
   "source": [
    "plt.figure(figsize=(15, 10))\n",
    "sns.histplot(data=df.sym_len)\n",
    "plt.show()"
   ]
  },
  {
   "cell_type": "code",
   "execution_count": 28,
   "metadata": {
    "colab": {
     "base_uri": "https://localhost:8080/",
     "height": 606
    },
    "id": "PGS9_6AWshYH",
    "outputId": "991f77a1-c83c-470e-f71a-a4dae1090e1f"
   },
   "outputs": [
    {
     "data": {
      "image/png": "[encoded data removed]",
      "text/plain": [
       "<Figure size 1080x720 with 1 Axes>"
      ]
     },
     "metadata": {
      "needs_background": "light"
     },
     "output_type": "display_data"
    }
   ],
   "source": [
    "plt.figure(figsize=(15, 10))\n",
    "sns.histplot(data=df.word_len)\n",
    "plt.show()"
   ]
  },
  {
   "cell_type": "markdown",
   "metadata": {
    "id": "vxoMfYTCtyF_"
   },
   "source": [
    "Обратите внимание, у распределений очень длинные хвосты"
   ]
  },
  {
   "cell_type": "markdown",
   "metadata": {
    "id": "-SSSpK_bt0zj"
   },
   "source": [
    "# Baseline (tf-idf + logreg)"
   ]
  },
  {
   "cell_type": "markdown",
   "metadata": {
    "id": "i54zKXPvmNuv"
   },
   "source": [
    "Подготавливаем тексты отзывов (взято из ноутбука второго занятия 😃)"
   ]
  },
  {
   "cell_type": "code",
   "execution_count": 50,
   "metadata": {},
   "outputs": [],
   "source": [
    "import pymorphy2\n",
    "from pymorphy2 import MorphAnalyzer\n",
    "import re\n",
    "from functools import lru_cache\n",
    "import nltk\n",
    "from nltk.corpus import stopwords\n",
    "import random"
   ]
  },
  {
   "cell_type": "code",
   "execution_count": 24,
   "metadata": {},
   "outputs": [
    {
     "name": "stderr",
     "output_type": "stream",
     "text": [
      "[nltk_data] Downloading package stopwords to\n",
      "[nltk_data]     /Users/ilyakirpichev/nltk_data...\n",
      "[nltk_data]   Unzipping corpora/stopwords.zip.\n"
     ]
    },
    {
     "data": {
      "text/plain": [
       "True"
      ]
     },
     "execution_count": 24,
     "metadata": {},
     "output_type": "execute_result"
    }
   ],
   "source": [
    "nltk.download('stopwords')"
   ]
  },
  {
   "cell_type": "code",
   "execution_count": 25,
   "metadata": {
    "id": "4X505UWzttrx"
   },
   "outputs": [],
   "source": [
    "m = MorphAnalyzer()\n",
    "regex = re.compile(\"[А-Яа-яA-z]+\")\n",
    "\n",
    "def words_only(text, regex=regex):\n",
    "    try:\n",
    "        return regex.findall(text.lower())\n",
    "    except:\n",
    "        return []\n",
    "\n",
    "@lru_cache(maxsize=128)\n",
    "def lemmatize_word(token, pymorphy=m):\n",
    "    return pymorphy.parse(token)[0].normal_form\n",
    "\n",
    "def lemmatize_text(text):\n",
    "    return [lemmatize_word(w) for w in text]\n",
    "\n",
    "\n",
    "mystopwords = stopwords.words('russian') \n",
    "def remove_stopwords(lemmas, stopwords = mystopwords):\n",
    "    return [w for w in lemmas if not w in stopwords and len(w) > 3]\n",
    "\n",
    "def clean_text(text):\n",
    "    tokens = words_only(text)\n",
    "    lemmas = lemmatize_text(tokens)\n",
    "    \n",
    "    return ' '.join(remove_stopwords(lemmas))"
   ]
  },
  {
   "cell_type": "code",
   "execution_count": 36,
   "metadata": {},
   "outputs": [],
   "source": [
    "from multiprocess import Pool\n",
    "from tqdm import tqdm"
   ]
  },
  {
   "cell_type": "code",
   "execution_count": 37,
   "metadata": {
    "colab": {
     "base_uri": "https://localhost:8080/",
     "height": 224
    },
    "id": "RRl4LEu4tYBx",
    "outputId": "f0d5ef22-1613-47d1-8a0a-acafd46103bc"
   },
   "outputs": [
    {
     "name": "stderr",
     "output_type": "stream",
     "text": [
      "100%|████████████████████████████████████████████████████████████| 51476/51476 [04:38<00:00, 184.69it/s]\n"
     ]
    },
    {
     "data": {
      "text/html": [
       "<div>\n",
       "<style scoped>\n",
       "    .dataframe tbody tr th:only-of-type {\n",
       "        vertical-align: middle;\n",
       "    }\n",
       "\n",
       "    .dataframe tbody tr th {\n",
       "        vertical-align: top;\n",
       "    }\n",
       "\n",
       "    .dataframe thead th {\n",
       "        text-align: right;\n",
       "    }\n",
       "</style>\n",
       "<table border=\"1\" class=\"dataframe\">\n",
       "  <thead>\n",
       "    <tr style=\"text-align: right;\">\n",
       "      <th></th>\n",
       "      <th>bank</th>\n",
       "      <th>feeds</th>\n",
       "      <th>grades</th>\n",
       "      <th>date</th>\n",
       "      <th>lemmas</th>\n",
       "    </tr>\n",
       "  </thead>\n",
       "  <tbody>\n",
       "    <tr>\n",
       "      <th>30907</th>\n",
       "      <td>otpbank</td>\n",
       "      <td>В сентябре подал заявление на закрытие кредитн...</td>\n",
       "      <td>2</td>\n",
       "      <td>2020-10-19 22:12:00</td>\n",
       "      <td>сентябрь подать заявление закрытие кредитный к...</td>\n",
       "    </tr>\n",
       "    <tr>\n",
       "      <th>13414</th>\n",
       "      <td>pochtabank</td>\n",
       "      <td>Стал недавно пользователем дебетовой карты Поч...</td>\n",
       "      <td>5</td>\n",
       "      <td>2018-07-21 20:55:00</td>\n",
       "      <td>стать недавно пользователь дебетовый карта поч...</td>\n",
       "    </tr>\n",
       "    <tr>\n",
       "      <th>970</th>\n",
       "      <td>otpbank</td>\n",
       "      <td>Я и мой супруг остались очень довольны работой...</td>\n",
       "      <td>4</td>\n",
       "      <td>2011-04-21 13:38:00</td>\n",
       "      <td>супруг остаться очень довольный работа предста...</td>\n",
       "    </tr>\n",
       "    <tr>\n",
       "      <th>9645</th>\n",
       "      <td>avangard</td>\n",
       "      <td>Преамбула: некоторое время назад (5-6 лет) у м...</td>\n",
       "      <td>4</td>\n",
       "      <td>2012-03-11 13:11:00</td>\n",
       "      <td>преамбула некоторый время назад открыть карточ...</td>\n",
       "    </tr>\n",
       "    <tr>\n",
       "      <th>362</th>\n",
       "      <td>v-express-bank</td>\n",
       "      <td>На днях позвонил сотрудник банка, и предложил ...</td>\n",
       "      <td>2</td>\n",
       "      <td>2020-05-25 00:07:00</td>\n",
       "      <td>день позвонить сотрудник банк предложить возмо...</td>\n",
       "    </tr>\n",
       "  </tbody>\n",
       "</table>\n",
       "</div>"
      ],
      "text/plain": [
       "                 bank                                              feeds  \\\n",
       "30907         otpbank  В сентябре подал заявление на закрытие кредитн...   \n",
       "13414      pochtabank  Стал недавно пользователем дебетовой карты Поч...   \n",
       "970           otpbank  Я и мой супруг остались очень довольны работой...   \n",
       "9645         avangard  Преамбула: некоторое время назад (5-6 лет) у м...   \n",
       "362    v-express-bank  На днях позвонил сотрудник банка, и предложил ...   \n",
       "\n",
       "       grades                date  \\\n",
       "30907       2 2020-10-19 22:12:00   \n",
       "13414       5 2018-07-21 20:55:00   \n",
       "970         4 2011-04-21 13:38:00   \n",
       "9645        4 2012-03-11 13:11:00   \n",
       "362         2 2020-05-25 00:07:00   \n",
       "\n",
       "                                                  lemmas  \n",
       "30907  сентябрь подать заявление закрытие кредитный к...  \n",
       "13414  стать недавно пользователь дебетовый карта поч...  \n",
       "970    супруг остаться очень довольный работа предста...  \n",
       "9645   преамбула некоторый время назад открыть карточ...  \n",
       "362    день позвонить сотрудник банк предложить возмо...  "
      ]
     },
     "execution_count": 37,
     "metadata": {},
     "output_type": "execute_result"
    }
   ],
   "source": [
    "with Pool(4) as p:\n",
    "    lemmas = list(tqdm(p.imap(clean_text, df['feeds']), total=len(df)))\n",
    "    \n",
    "df['lemmas'] = lemmas\n",
    "df.sample(5)"
   ]
  },
  {
   "cell_type": "markdown",
   "metadata": {
    "id": "jU-WVmzynzjU"
   },
   "source": [
    "Будем обучаться исключительно на текстах отзывов (признаки `bank`и `date` не используем от слова совсем -- **мы не используем, а вы в своих решениях попробуйте**)"
   ]
  },
  {
   "cell_type": "code",
   "execution_count": 38,
   "metadata": {
    "id": "TjnbZAcXoTsc"
   },
   "outputs": [],
   "source": [
    "y_train = df.grades\n",
    "y_train = y_train.reset_index().drop(columns='index')\n",
    "del df # высвободим оперативу, она нам не помешает"
   ]
  },
  {
   "cell_type": "markdown",
   "metadata": {
    "id": "_15gJTIsogRG"
   },
   "source": [
    "Обучимся на всех объектах, а потом сделаем предсказание на тесте из соревнования. Ни больше, ни меньше"
   ]
  },
  {
   "cell_type": "code",
   "execution_count": 48,
   "metadata": {},
   "outputs": [],
   "source": [
    "from sklearn.feature_extraction.text import TfidfVectorizer\n",
    "from sklearn.linear_model import LogisticRegression\n",
    "import numpy as np"
   ]
  },
  {
   "cell_type": "code",
   "execution_count": 45,
   "metadata": {
    "colab": {
     "base_uri": "https://localhost:8080/"
    },
    "id": "0MM3qHCYw_Co",
    "outputId": "481aea37-7392-44c0-ce3f-9c92090c71e1"
   },
   "outputs": [
    {
     "name": "stdout",
     "output_type": "stream",
     "text": [
      "CPU times: user 19.2 s, sys: 465 ms, total: 19.7 s\n",
      "Wall time: 19.7 s\n"
     ]
    }
   ],
   "source": [
    "%%time\n",
    "vec = TfidfVectorizer(ngram_range=(1, 2)) # используем уни-, биграммы\n",
    "bow = vec.fit_transform(lemmas)\n",
    "clf = LogisticRegression(random_state=42, max_iter=500, warm_start=True)\n"
   ]
  },
  {
   "cell_type": "code",
   "execution_count": 46,
   "metadata": {
    "colab": {
     "base_uri": "https://localhost:8080/",
     "height": 424
    },
    "id": "eOOsSaKGHCkX",
    "outputId": "acf2e838-afdc-4558-edb7-ef129324df22"
   },
   "outputs": [
    {
     "data": {
      "text/html": [
       "<div>\n",
       "<style scoped>\n",
       "    .dataframe tbody tr th:only-of-type {\n",
       "        vertical-align: middle;\n",
       "    }\n",
       "\n",
       "    .dataframe tbody tr th {\n",
       "        vertical-align: top;\n",
       "    }\n",
       "\n",
       "    .dataframe thead th {\n",
       "        text-align: right;\n",
       "    }\n",
       "</style>\n",
       "<table border=\"1\" class=\"dataframe\">\n",
       "  <thead>\n",
       "    <tr style=\"text-align: right;\">\n",
       "      <th></th>\n",
       "      <th>grades</th>\n",
       "    </tr>\n",
       "  </thead>\n",
       "  <tbody>\n",
       "    <tr>\n",
       "      <th>0</th>\n",
       "      <td>1</td>\n",
       "    </tr>\n",
       "    <tr>\n",
       "      <th>1</th>\n",
       "      <td>2</td>\n",
       "    </tr>\n",
       "    <tr>\n",
       "      <th>2</th>\n",
       "      <td>2</td>\n",
       "    </tr>\n",
       "    <tr>\n",
       "      <th>3</th>\n",
       "      <td>5</td>\n",
       "    </tr>\n",
       "    <tr>\n",
       "      <th>4</th>\n",
       "      <td>2</td>\n",
       "    </tr>\n",
       "    <tr>\n",
       "      <th>...</th>\n",
       "      <td>...</td>\n",
       "    </tr>\n",
       "    <tr>\n",
       "      <th>51471</th>\n",
       "      <td>1</td>\n",
       "    </tr>\n",
       "    <tr>\n",
       "      <th>51472</th>\n",
       "      <td>2</td>\n",
       "    </tr>\n",
       "    <tr>\n",
       "      <th>51473</th>\n",
       "      <td>1</td>\n",
       "    </tr>\n",
       "    <tr>\n",
       "      <th>51474</th>\n",
       "      <td>3</td>\n",
       "    </tr>\n",
       "    <tr>\n",
       "      <th>51475</th>\n",
       "      <td>1</td>\n",
       "    </tr>\n",
       "  </tbody>\n",
       "</table>\n",
       "<p>51476 rows × 1 columns</p>\n",
       "</div>"
      ],
      "text/plain": [
       "       grades\n",
       "0           1\n",
       "1           2\n",
       "2           2\n",
       "3           5\n",
       "4           2\n",
       "...       ...\n",
       "51471       1\n",
       "51472       2\n",
       "51473       1\n",
       "51474       3\n",
       "51475       1\n",
       "\n",
       "[51476 rows x 1 columns]"
      ]
     },
     "execution_count": 46,
     "metadata": {},
     "output_type": "execute_result"
    }
   ],
   "source": [
    "y_train"
   ]
  },
  {
   "cell_type": "code",
   "execution_count": 62,
   "metadata": {},
   "outputs": [
    {
     "data": {
      "text/plain": [
       "<1x1699022 sparse matrix of type '<class 'numpy.float64'>'\n",
       "\twith 194 stored elements in Compressed Sparse Row format>"
      ]
     },
     "execution_count": 62,
     "metadata": {},
     "output_type": "execute_result"
    }
   ],
   "source": [
    "bow[0]"
   ]
  },
  {
   "cell_type": "code",
   "execution_count": 51,
   "metadata": {
    "colab": {
     "base_uri": "https://localhost:8080/"
    },
    "id": "PyqxnGdYwggF",
    "outputId": "d635253c-58fc-477a-b06e-a8e631fca973"
   },
   "outputs": [
    {
     "name": "stderr",
     "output_type": "stream",
     "text": [
      "  0%|                                                                            | 0/10 [00:00<?, ?it/s]/Users/ilyakirpichev/Library/Python/3.9/lib/python/site-packages/sklearn/utils/validation.py:1111: DataConversionWarning: A column-vector y was passed when a 1d array was expected. Please change the shape of y to (n_samples, ), for example using ravel().\n",
      "  y = column_or_1d(y, warn=True)\n",
      " 10%|██████▊                                                             | 1/10 [01:35<14:21, 95.67s/it]/Users/ilyakirpichev/Library/Python/3.9/lib/python/site-packages/sklearn/utils/validation.py:1111: DataConversionWarning: A column-vector y was passed when a 1d array was expected. Please change the shape of y to (n_samples, ), for example using ravel().\n",
      "  y = column_or_1d(y, warn=True)\n",
      " 20%|█████████████▌                                                      | 2/10 [03:15<13:02, 97.84s/it]/Users/ilyakirpichev/Library/Python/3.9/lib/python/site-packages/sklearn/utils/validation.py:1111: DataConversionWarning: A column-vector y was passed when a 1d array was expected. Please change the shape of y to (n_samples, ), for example using ravel().\n",
      "  y = column_or_1d(y, warn=True)\n",
      " 30%|████████████████████▍                                               | 3/10 [04:49<11:14, 96.41s/it]/Users/ilyakirpichev/Library/Python/3.9/lib/python/site-packages/sklearn/utils/validation.py:1111: DataConversionWarning: A column-vector y was passed when a 1d array was expected. Please change the shape of y to (n_samples, ), for example using ravel().\n",
      "  y = column_or_1d(y, warn=True)\n",
      " 40%|███████████████████████████▏                                        | 4/10 [06:30<09:47, 97.94s/it]/Users/ilyakirpichev/Library/Python/3.9/lib/python/site-packages/sklearn/utils/validation.py:1111: DataConversionWarning: A column-vector y was passed when a 1d array was expected. Please change the shape of y to (n_samples, ), for example using ravel().\n",
      "  y = column_or_1d(y, warn=True)\n",
      " 50%|██████████████████████████████████                                  | 5/10 [08:02<08:00, 96.14s/it]/Users/ilyakirpichev/Library/Python/3.9/lib/python/site-packages/sklearn/utils/validation.py:1111: DataConversionWarning: A column-vector y was passed when a 1d array was expected. Please change the shape of y to (n_samples, ), for example using ravel().\n",
      "  y = column_or_1d(y, warn=True)\n",
      " 60%|████████████████████████████████████████▊                           | 6/10 [09:33<06:17, 94.27s/it]/Users/ilyakirpichev/Library/Python/3.9/lib/python/site-packages/sklearn/utils/validation.py:1111: DataConversionWarning: A column-vector y was passed when a 1d array was expected. Please change the shape of y to (n_samples, ), for example using ravel().\n",
      "  y = column_or_1d(y, warn=True)\n",
      " 70%|███████████████████████████████████████████████▌                    | 7/10 [11:09<04:43, 94.64s/it]/Users/ilyakirpichev/Library/Python/3.9/lib/python/site-packages/sklearn/utils/validation.py:1111: DataConversionWarning: A column-vector y was passed when a 1d array was expected. Please change the shape of y to (n_samples, ), for example using ravel().\n",
      "  y = column_or_1d(y, warn=True)\n",
      " 80%|██████████████████████████████████████████████████████▍             | 8/10 [12:46<03:10, 95.47s/it]/Users/ilyakirpichev/Library/Python/3.9/lib/python/site-packages/sklearn/utils/validation.py:1111: DataConversionWarning: A column-vector y was passed when a 1d array was expected. Please change the shape of y to (n_samples, ), for example using ravel().\n",
      "  y = column_or_1d(y, warn=True)\n",
      " 90%|█████████████████████████████████████████████████████████████▏      | 9/10 [14:22<01:35, 95.71s/it]/Users/ilyakirpichev/Library/Python/3.9/lib/python/site-packages/sklearn/utils/validation.py:1111: DataConversionWarning: A column-vector y was passed when a 1d array was expected. Please change the shape of y to (n_samples, ), for example using ravel().\n",
      "  y = column_or_1d(y, warn=True)\n",
      "100%|███████████████████████████████████████████████████████████████████| 10/10 [16:09<00:00, 96.95s/it]\n"
     ]
    }
   ],
   "source": [
    "# небольшой трюк: будем обучаться частями\n",
    "ran = np.arange(y_train.shape[0])\n",
    "inds = np.array_split(ran, 10) # разобъем на 10 частей\n",
    "# и подмешаем к каждому куску случайных объектов\n",
    "inds = [np.concatenate((chunk, np.array(random.sample(list(ran), k=1000))), axis=None) for chunk in inds]\n",
    "\n",
    "for chunk in tqdm(inds):\n",
    "    clf.fit(bow[chunk, :], y_train.iloc[chunk])\n"
   ]
  },
  {
   "cell_type": "markdown",
   "metadata": {
    "id": "19IT2fpupy6-"
   },
   "source": [
    "Загрузим тест. Предобработаем отзывы в нем и сделаем предсказания"
   ]
  },
  {
   "cell_type": "code",
   "execution_count": 52,
   "metadata": {
    "colab": {
     "base_uri": "https://localhost:8080/",
     "height": 424
    },
    "id": "GuGMocMhpwmn",
    "outputId": "2e42beaf-4220-475e-9aeb-c9605bef1654"
   },
   "outputs": [
    {
     "data": {
      "text/html": [
       "<div>\n",
       "<style scoped>\n",
       "    .dataframe tbody tr th:only-of-type {\n",
       "        vertical-align: middle;\n",
       "    }\n",
       "\n",
       "    .dataframe tbody tr th {\n",
       "        vertical-align: top;\n",
       "    }\n",
       "\n",
       "    .dataframe thead th {\n",
       "        text-align: right;\n",
       "    }\n",
       "</style>\n",
       "<table border=\"1\" class=\"dataframe\">\n",
       "  <thead>\n",
       "    <tr style=\"text-align: right;\">\n",
       "      <th></th>\n",
       "      <th>bank</th>\n",
       "      <th>feeds</th>\n",
       "      <th>date</th>\n",
       "    </tr>\n",
       "  </thead>\n",
       "  <tbody>\n",
       "    <tr>\n",
       "      <th>0</th>\n",
       "      <td>sberbank</td>\n",
       "      <td>Оформляем ипотеку в Сбербанке. 22.06.2020 были...</td>\n",
       "      <td>01.07.2020 10:53</td>\n",
       "    </tr>\n",
       "    <tr>\n",
       "      <th>1</th>\n",
       "      <td>alfabank</td>\n",
       "      <td>Краткое содержание: не рекомендую брать кредит...</td>\n",
       "      <td>20.06.2019 13:19</td>\n",
       "    </tr>\n",
       "    <tr>\n",
       "      <th>2</th>\n",
       "      <td>v-express-bank</td>\n",
       "      <td>Добрый день, уважаемые сотрудники службы контр...</td>\n",
       "      <td>20.02.2016 11:46</td>\n",
       "    </tr>\n",
       "    <tr>\n",
       "      <th>3</th>\n",
       "      <td>homecreditbank</td>\n",
       "      <td>Обращался за получением карты \"Зеленая польза\"...</td>\n",
       "      <td>06.05.2019 15:48</td>\n",
       "    </tr>\n",
       "    <tr>\n",
       "      <th>4</th>\n",
       "      <td>vtb</td>\n",
       "      <td>20.05.2016 обратилась в отделение банка на про...</td>\n",
       "      <td>23.05.2016 15:41</td>\n",
       "    </tr>\n",
       "    <tr>\n",
       "      <th>...</th>\n",
       "      <td>...</td>\n",
       "      <td>...</td>\n",
       "      <td>...</td>\n",
       "    </tr>\n",
       "    <tr>\n",
       "      <th>17215</th>\n",
       "      <td>sberbank</td>\n",
       "      <td>21.09.2018 в 15:26:56, я, О-ва К. К., снимала ...</td>\n",
       "      <td>22.09.2018 16:08</td>\n",
       "    </tr>\n",
       "    <tr>\n",
       "      <th>17216</th>\n",
       "      <td>homecreditbank</td>\n",
       "      <td>Наверняка не засчитают, но тем не менее. Нужна...</td>\n",
       "      <td>06.10.2011 9:35</td>\n",
       "    </tr>\n",
       "    <tr>\n",
       "      <th>17217</th>\n",
       "      <td>interprombank</td>\n",
       "      <td>15.08.2019 я, как физ.лицо обратилась в офис н...</td>\n",
       "      <td>21.08.2019 14:13</td>\n",
       "    </tr>\n",
       "    <tr>\n",
       "      <th>17218</th>\n",
       "      <td>otpbank</td>\n",
       "      <td>У банка есть рекламный продукт-игра \"Мои рыбки...</td>\n",
       "      <td>29.05.2020 16:12</td>\n",
       "    </tr>\n",
       "    <tr>\n",
       "      <th>17219</th>\n",
       "      <td>sberbank</td>\n",
       "      <td>26 мая 2015 года мною была совершена операция ...</td>\n",
       "      <td>02.06.2015 15:44</td>\n",
       "    </tr>\n",
       "  </tbody>\n",
       "</table>\n",
       "<p>17220 rows × 3 columns</p>\n",
       "</div>"
      ],
      "text/plain": [
       "                 bank                                              feeds  \\\n",
       "0            sberbank  Оформляем ипотеку в Сбербанке. 22.06.2020 были...   \n",
       "1            alfabank  Краткое содержание: не рекомендую брать кредит...   \n",
       "2      v-express-bank  Добрый день, уважаемые сотрудники службы контр...   \n",
       "3      homecreditbank  Обращался за получением карты \"Зеленая польза\"...   \n",
       "4                 vtb  20.05.2016 обратилась в отделение банка на про...   \n",
       "...               ...                                                ...   \n",
       "17215        sberbank  21.09.2018 в 15:26:56, я, О-ва К. К., снимала ...   \n",
       "17216  homecreditbank  Наверняка не засчитают, но тем не менее. Нужна...   \n",
       "17217   interprombank  15.08.2019 я, как физ.лицо обратилась в офис н...   \n",
       "17218         otpbank  У банка есть рекламный продукт-игра \"Мои рыбки...   \n",
       "17219        sberbank  26 мая 2015 года мною была совершена операция ...   \n",
       "\n",
       "                   date  \n",
       "0      01.07.2020 10:53  \n",
       "1      20.06.2019 13:19  \n",
       "2      20.02.2016 11:46  \n",
       "3      06.05.2019 15:48  \n",
       "4      23.05.2016 15:41  \n",
       "...                 ...  \n",
       "17215  22.09.2018 16:08  \n",
       "17216   06.10.2011 9:35  \n",
       "17217  21.08.2019 14:13  \n",
       "17218  29.05.2020 16:12  \n",
       "17219  02.06.2015 15:44  \n",
       "\n",
       "[17220 rows x 3 columns]"
      ]
     },
     "execution_count": 52,
     "metadata": {},
     "output_type": "execute_result"
    }
   ],
   "source": [
    "test = pd.read_csv('new_test_ml.csv', index_col=0)\n",
    "test"
   ]
  },
  {
   "cell_type": "code",
   "execution_count": 53,
   "metadata": {
    "colab": {
     "base_uri": "https://localhost:8080/"
    },
    "id": "VwHSr5Wdpwmr",
    "outputId": "4436aace-9656-4fb4-d63d-07c62b4c6104"
   },
   "outputs": [
    {
     "name": "stderr",
     "output_type": "stream",
     "text": [
      "100%|████████████████████████████████████████████████████████████| 17220/17220 [01:21<00:00, 210.11it/s]\n"
     ]
    }
   ],
   "source": [
    "with Pool(4) as p:\n",
    "    lemmas_test = list(tqdm(p.imap(clean_text, test['feeds']), total=len(test)))\n",
    "    "
   ]
  },
  {
   "cell_type": "code",
   "execution_count": 54,
   "metadata": {
    "colab": {
     "base_uri": "https://localhost:8080/"
    },
    "id": "i_HuBNjIpwms",
    "outputId": "eff161b4-7318-45ef-d344-5d55869a620b"
   },
   "outputs": [
    {
     "data": {
      "text/plain": [
       "array([1, 1, 1, ..., 1, 1, 1], dtype=int32)"
      ]
     },
     "execution_count": 54,
     "metadata": {},
     "output_type": "execute_result"
    }
   ],
   "source": [
    "pred = clf.predict(vec.transform(lemmas_test))\n",
    "pred"
   ]
  },
  {
   "cell_type": "code",
   "execution_count": 59,
   "metadata": {
    "colab": {
     "base_uri": "https://localhost:8080/",
     "height": 424
    },
    "id": "Kw4PI3WIpwms",
    "outputId": "70df5ef8-13c0-4088-d5ee-594f9932e520"
   },
   "outputs": [
    {
     "data": {
      "text/html": [
       "<div>\n",
       "<style scoped>\n",
       "    .dataframe tbody tr th:only-of-type {\n",
       "        vertical-align: middle;\n",
       "    }\n",
       "\n",
       "    .dataframe tbody tr th {\n",
       "        vertical-align: top;\n",
       "    }\n",
       "\n",
       "    .dataframe thead th {\n",
       "        text-align: right;\n",
       "    }\n",
       "</style>\n",
       "<table border=\"1\" class=\"dataframe\">\n",
       "  <thead>\n",
       "    <tr style=\"text-align: right;\">\n",
       "      <th></th>\n",
       "      <th>inds</th>\n",
       "      <th>grades</th>\n",
       "    </tr>\n",
       "  </thead>\n",
       "  <tbody>\n",
       "    <tr>\n",
       "      <th>0</th>\n",
       "      <td>0</td>\n",
       "      <td>1</td>\n",
       "    </tr>\n",
       "    <tr>\n",
       "      <th>1</th>\n",
       "      <td>1</td>\n",
       "      <td>1</td>\n",
       "    </tr>\n",
       "    <tr>\n",
       "      <th>2</th>\n",
       "      <td>2</td>\n",
       "      <td>1</td>\n",
       "    </tr>\n",
       "    <tr>\n",
       "      <th>3</th>\n",
       "      <td>3</td>\n",
       "      <td>1</td>\n",
       "    </tr>\n",
       "    <tr>\n",
       "      <th>4</th>\n",
       "      <td>4</td>\n",
       "      <td>1</td>\n",
       "    </tr>\n",
       "    <tr>\n",
       "      <th>...</th>\n",
       "      <td>...</td>\n",
       "      <td>...</td>\n",
       "    </tr>\n",
       "    <tr>\n",
       "      <th>17215</th>\n",
       "      <td>17215</td>\n",
       "      <td>1</td>\n",
       "    </tr>\n",
       "    <tr>\n",
       "      <th>17216</th>\n",
       "      <td>17216</td>\n",
       "      <td>1</td>\n",
       "    </tr>\n",
       "    <tr>\n",
       "      <th>17217</th>\n",
       "      <td>17217</td>\n",
       "      <td>1</td>\n",
       "    </tr>\n",
       "    <tr>\n",
       "      <th>17218</th>\n",
       "      <td>17218</td>\n",
       "      <td>1</td>\n",
       "    </tr>\n",
       "    <tr>\n",
       "      <th>17219</th>\n",
       "      <td>17219</td>\n",
       "      <td>1</td>\n",
       "    </tr>\n",
       "  </tbody>\n",
       "</table>\n",
       "<p>17220 rows × 2 columns</p>\n",
       "</div>"
      ],
      "text/plain": [
       "        inds  grades\n",
       "0          0       1\n",
       "1          1       1\n",
       "2          2       1\n",
       "3          3       1\n",
       "4          4       1\n",
       "...      ...     ...\n",
       "17215  17215       1\n",
       "17216  17216       1\n",
       "17217  17217       1\n",
       "17218  17218       1\n",
       "17219  17219       1\n",
       "\n",
       "[17220 rows x 2 columns]"
      ]
     },
     "execution_count": 59,
     "metadata": {},
     "output_type": "execute_result"
    }
   ],
   "source": [
    "sol = pd.DataFrame({'inds': test.index,\n",
    "                    'grades': pred})\n",
    "sol"
   ]
  },
  {
   "cell_type": "code",
   "execution_count": 71,
   "metadata": {},
   "outputs": [
    {
     "data": {
      "text/plain": [
       "<AxesSubplot: ylabel='Count'>"
      ]
     },
     "execution_count": 71,
     "metadata": {},
     "output_type": "execute_result"
    },
    {
     "data": {
      "image/png": "[encoded data removed]",
      "text/plain": [
       "<Figure size 432x288 with 1 Axes>"
      ]
     },
     "metadata": {
      "needs_background": "light"
     },
     "output_type": "display_data"
    }
   ],
   "source": [
    "sns.histplot(pred)"
   ]
  },
  {
   "cell_type": "code",
   "execution_count": 72,
   "metadata": {
    "id": "2xghxd6Tpwmu"
   },
   "outputs": [],
   "source": [
    "sol.to_csv('new_baseline.csv', index=False)"
   ]
  },
  {
   "cell_type": "markdown",
   "metadata": {
    "id": "zSMfS_JMqxJN"
   },
   "source": [
    "Кстати, если обратите внимание на содержимое вектора предсказанных классов, то наверняка заметите, что модель предсказывает только 1 и 5, редко 2 и 3 и вообще никогда класс 4. Отчасти это логично -- наблюдается сильный дисбаланс классов. Но этот недочет неплохо бы исправить в ваших решениях"
   ]
  },
  {
   "cell_type": "code",
   "execution_count": null,
   "metadata": {
    "colab": {
     "base_uri": "https://localhost:8080/"
    },
    "id": "71o2ej0jrkpe",
    "outputId": "3772c5f9-f17d-4767-ea80-96f80fe471c6"
   },
   "outputs": [
    {
     "data": {
      "text/plain": [
       "array([[    1, 12381],\n",
       "       [    2,    48],\n",
       "       [    3,     1],\n",
       "       [    5,  4790]])"
      ]
     },
     "execution_count": 20,
     "metadata": {},
     "output_type": "execute_result"
    }
   ],
   "source": [
    "unique, counts = np.unique(pred, return_counts=True)\n",
    "np.asarray((unique, counts)).T"
   ]
  },
  {
   "cell_type": "code",
   "execution_count": null,
   "metadata": {
    "id": "j6e0J5NYPN3f"
   },
   "outputs": [],
   "source": []
  }
 ],
 "metadata": {
  "colab": {
   "provenance": [],
   "toc_visible": true
  },
  "kernelspec": {
   "display_name": "Python 3 (ipykernel)",
   "language": "python",
   "name": "python3"
  },
  "language_info": {
   "codemirror_mode": {
    "name": "ipython",
    "version": 3
   },
   "file_extension": ".py",
   "mimetype": "text/x-python",
   "name": "python",
   "nbconvert_exporter": "python",
   "pygments_lexer": "ipython3",
   "version": "3.9.14"
  }
 },
 "nbformat": 4,
 "nbformat_minor": 1
}
